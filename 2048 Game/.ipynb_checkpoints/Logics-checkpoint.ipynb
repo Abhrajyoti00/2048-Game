{
 "cells": [
  {
   "cell_type": "code",
   "execution_count": 1,
   "metadata": {},
   "outputs": [],
   "source": [
    "import random\n",
    "\n",
    "def start_game():\n",
    "    mat = []\n",
    "    for i in range(4):\n",
    "        mat.append([0]*4)\n",
    "    return mat\n",
    "\n",
    "def add_new_2(mat):\n",
    "    r = random.randint(0,3)\n",
    "    c = random.randint(0,3)\n",
    "    while(mat[r][c] != 0):\n",
    "        r = random.randint(0,3)\n",
    "        c = random.randint(0,3)\n",
    "    mat[r][c] = 2\n",
    "    \n",
    "def merge(mat):\n",
    "    for i in range(4):\n",
    "        for j in range(3):\n",
    "            if (mat[i][j] == mat[i][j+1] and mat[i][j]!=0):\n",
    "                mat[i][j] = mat[i][j]*2\n",
    "                mat[i][j+1] = 0\n",
    "    return mat\n",
    "\n",
    "def reverse(mat):\n",
    "    new_mat = []\n",
    "    for i in range(4):\n",
    "        new_mat.append([])\n",
    "        for j in range(4):\n",
    "            new_mat[i].append(mat[i][4-j-1])   # (reversing)\n",
    "    return new_mat\n",
    "\n",
    "def transpose(mat):\n",
    "    new_mat = []\n",
    "    for i in range(4):\n",
    "        new_mat.append([])\n",
    "        for j in range(4):\n",
    "            new_mat[i].append(mat[j][i])  # While transposing (i,j) becomes (j,i)\n",
    "        \n",
    "    return new_mat\n",
    "\n",
    "def compress(mat):\n",
    "    new_mat = []\n",
    "    for i in range(4):\n",
    "        new_mat.append([0]*4)\n",
    "    \n",
    "    for i in range(4):\n",
    "        pos = 0\n",
    "        for j in range(4):\n",
    "            if mat[i][j] != 0:\n",
    "                new_mat[i][pos] = mat[i][j]\n",
    "                pos+=1\n",
    "    return new_mat\n",
    "\n",
    "'''\n",
    "Left Move\n",
    "----------\n",
    "1) Compress\n",
    "2) Merge\n",
    "3) Compress \n",
    "'''\n",
    "\n",
    "def left_move(mat):\n",
    "    compressed_mat = compress(mat)\n",
    "    merged_mat = merge(compressed_mat)\n",
    "    compressed_mat = compress(merged_mat)\n",
    "    return compressed_mat\n",
    "\n",
    "'''\n",
    "Right Move\n",
    "----------\n",
    "1) Reverse\n",
    "2) Compress\n",
    "3) Merge\n",
    "4) Compress \n",
    "5) Reverse\n",
    "'''\n",
    "\n",
    "def right_move(mat):\n",
    "    reversed_mat = reverse(mat)\n",
    "    mat = reversed_mat\n",
    "    compressed_mat = compress(mat)\n",
    "    merged_mat = merge(compressed_mat)\n",
    "    compressed_mat = compress(merged_mat)\n",
    "    reversed_mat = reverse(compressed_mat)\n",
    "    return reversed_mat\n",
    "\n",
    "'''\n",
    "Up Move\n",
    "----------\n",
    "1) Transpose\n",
    "2) Compress\n",
    "3) Merge\n",
    "4) Compress \n",
    "5) Transpose\n",
    "'''\n",
    "def up_move(mat):\n",
    "    transopsed_mat = transpose(mat)\n",
    "    mat = transopsed_mat\n",
    "    compressed_mat = compress(mat)\n",
    "    merged_mat = merge(compressed_mat)\n",
    "    compressed_mat = compress(merged_mat)\n",
    "    transopsed_mat = transpose(compressed_mat)\n",
    "    return transopsed_mat\n",
    "\n",
    "'''\n",
    "Down Move\n",
    "----------\n",
    "1) Transpose\n",
    "2) Reverse\n",
    "3) Compress\n",
    "4) Merge\n",
    "5) Compress \n",
    "6) Reverse\n",
    "7) Transpose\n",
    "'''\n",
    "def down_move(mat):\n",
    "    transopsed_mat = transpose(mat)\n",
    "    mat = reverse(transopsed_mat)    \n",
    "    compressed_mat = compress(mat)\n",
    "    merged_mat = merge(compressed_mat)\n",
    "    compressed_mat = compress(merged_mat)\n",
    "    reversed_mat = reverse(compressed_mat)\n",
    "    transopsed_mat = transpose(reversed_mat)\n",
    "    return transopsed_mat\n",
    "\n",
    "\n",
    "def get_current_state(mat):\n",
    "    \n",
    "    #Winning Condition\n",
    "    \n",
    "    #Anywhere 2048 is present\n",
    "    for i in range(4):\n",
    "        for j in range(4):\n",
    "            if mat[i][j] == 2048:\n",
    "                return 'WON'\n",
    "    \n",
    "    \n",
    "    #Game Unfinished Conditions\n",
    "    \n",
    "    #Anywhere 0 is present\n",
    "    for i in range(4):\n",
    "        for j in range(4):\n",
    "            if mat[i][j] == 0:\n",
    "                return 'GAME NOT OVER'\n",
    "    \n",
    "    #Every row and column except last row and last column\n",
    "    for i in range(3):\n",
    "        for j in range(3):\n",
    "            if (mat[i][j+1] == mat[i][j] or mat[i+1][j] == mat[i][j]):\n",
    "                return 'GAME NOT OVER'\n",
    "    \n",
    "    #Last Row  \n",
    "    for j in range(3):\n",
    "        if (mat[3][j+1] == mat[3][j]):\n",
    "            return 'GAME NOT OVER'\n",
    "        \n",
    "    #Last Column\n",
    "    for i in range(3):\n",
    "        if (mat[i][3] == mat[i+1][3]):\n",
    "            return 'GAME NOT OVER'\n",
    "        \n",
    "    return 'LOST'\n",
    "    \n"
   ]
  },
  {
   "cell_type": "code",
   "execution_count": 2,
   "metadata": {},
   "outputs": [
    {
     "data": {
      "text/plain": [
       "'\\nTesting our Logic\\n'"
      ]
     },
     "execution_count": 2,
     "metadata": {},
     "output_type": "execute_result"
    }
   ],
   "source": [
    "'''\n",
    "Testing our Logic\n",
    "'''"
   ]
  },
  {
   "cell_type": "code",
   "execution_count": 3,
   "metadata": {},
   "outputs": [
    {
     "name": "stdout",
     "output_type": "stream",
     "text": [
      "[[0, 0, 0, 0], [0, 0, 0, 0], [0, 0, 0, 0], [0, 0, 0, 0]]\n"
     ]
    }
   ],
   "source": [
    "mat = start_game()\n",
    "print(mat)"
   ]
  },
  {
   "cell_type": "code",
   "execution_count": 4,
   "metadata": {},
   "outputs": [
    {
     "name": "stdout",
     "output_type": "stream",
     "text": [
      "[[0, 0, 0, 0], [0, 0, 0, 0], [2, 0, 0, 0], [0, 0, 0, 0]]\n"
     ]
    }
   ],
   "source": [
    "add_new_2(mat)\n",
    "print(mat)"
   ]
  },
  {
   "cell_type": "code",
   "execution_count": 5,
   "metadata": {},
   "outputs": [
    {
     "name": "stdout",
     "output_type": "stream",
     "text": [
      "[[0, 0, 0, 2], [0, 0, 0, 0], [2, 0, 0, 0], [0, 0, 0, 0]]\n"
     ]
    }
   ],
   "source": [
    "add_new_2(mat)\n",
    "print(mat)"
   ]
  },
  {
   "cell_type": "code",
   "execution_count": 6,
   "metadata": {},
   "outputs": [
    {
     "name": "stdout",
     "output_type": "stream",
     "text": [
      "[[2, 0, 0, 2], [0, 0, 0, 0], [0, 0, 0, 0], [0, 0, 0, 0]]\n"
     ]
    }
   ],
   "source": [
    "mat = up_move(mat)\n",
    "print(mat)"
   ]
  },
  {
   "cell_type": "code",
   "execution_count": 7,
   "metadata": {},
   "outputs": [
    {
     "name": "stdout",
     "output_type": "stream",
     "text": [
      "[[4, 0, 0, 0], [0, 0, 0, 0], [0, 0, 0, 0], [0, 0, 0, 0]]\n"
     ]
    }
   ],
   "source": [
    "mat = left_move(mat)\n",
    "print(mat)"
   ]
  },
  {
   "cell_type": "code",
   "execution_count": 8,
   "metadata": {},
   "outputs": [
    {
     "name": "stdout",
     "output_type": "stream",
     "text": [
      "[[4, 0, 0, 0], [0, 0, 0, 0], [0, 2, 0, 0], [0, 0, 0, 0]]\n"
     ]
    }
   ],
   "source": [
    "add_new_2(mat)\n",
    "print(mat)"
   ]
  },
  {
   "cell_type": "code",
   "execution_count": 9,
   "metadata": {},
   "outputs": [
    {
     "name": "stdout",
     "output_type": "stream",
     "text": [
      "[[0, 0, 0, 0], [0, 0, 0, 0], [0, 0, 0, 0], [4, 2, 0, 0]]\n"
     ]
    }
   ],
   "source": [
    "mat = down_move(mat)\n",
    "print(mat)"
   ]
  },
  {
   "cell_type": "code",
   "execution_count": 10,
   "metadata": {},
   "outputs": [
    {
     "name": "stdout",
     "output_type": "stream",
     "text": [
      "[[0, 2, 0, 0], [0, 0, 0, 0], [0, 0, 0, 0], [4, 2, 0, 0]]\n"
     ]
    }
   ],
   "source": [
    "add_new_2(mat)\n",
    "print(mat)"
   ]
  },
  {
   "cell_type": "code",
   "execution_count": 11,
   "metadata": {},
   "outputs": [
    {
     "name": "stdout",
     "output_type": "stream",
     "text": [
      "[[0, 0, 0, 0], [0, 0, 0, 0], [0, 0, 0, 0], [4, 4, 0, 0]]\n"
     ]
    }
   ],
   "source": [
    "mat = down_move(mat)\n",
    "print(mat)"
   ]
  },
  {
   "cell_type": "code",
   "execution_count": 12,
   "metadata": {},
   "outputs": [
    {
     "name": "stdout",
     "output_type": "stream",
     "text": [
      "[[0, 0, 0, 0], [0, 0, 0, 0], [0, 0, 0, 0], [8, 0, 0, 0]]\n"
     ]
    }
   ],
   "source": [
    "mat = left_move(mat)\n",
    "print(mat)"
   ]
  },
  {
   "cell_type": "code",
   "execution_count": null,
   "metadata": {},
   "outputs": [],
   "source": []
  }
 ],
 "metadata": {
  "kernelspec": {
   "display_name": "Python 3",
   "language": "python",
   "name": "python3"
  },
  "language_info": {
   "codemirror_mode": {
    "name": "ipython",
    "version": 3
   },
   "file_extension": ".py",
   "mimetype": "text/x-python",
   "name": "python",
   "nbconvert_exporter": "python",
   "pygments_lexer": "ipython3",
   "version": "3.8.3"
  }
 },
 "nbformat": 4,
 "nbformat_minor": 4
}
